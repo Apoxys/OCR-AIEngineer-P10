{
 "cells": [
  {
   "cell_type": "markdown",
   "id": "c379b2c5-94c9-48e9-bce9-08e0934d0b6f",
   "metadata": {},
   "source": [
    "# Product recommendation"
   ]
  },
  {
   "cell_type": "code",
   "execution_count": null,
   "id": "58f77360-49a2-47c0-ad0c-b6d2dcedb92b",
   "metadata": {},
   "outputs": [],
   "source": []
  }
 ],
 "metadata": {
  "kernelspec": {
   "display_name": "Python 3 (ipykernel)",
   "language": "python",
   "name": "python3"
  },
  "language_info": {
   "codemirror_mode": {
    "name": "ipython",
    "version": 3
   },
   "file_extension": ".py",
   "mimetype": "text/x-python",
   "name": "python",
   "nbconvert_exporter": "python",
   "pygments_lexer": "ipython3",
   "version": "3.11.11"
  }
 },
 "nbformat": 4,
 "nbformat_minor": 5
}
