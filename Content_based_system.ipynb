{
 "cells": [
  {
   "cell_type": "markdown",
   "id": "1d19107e-24fe-41e2-a3cc-74578839aae4",
   "metadata": {},
   "source": [
    "# Content based recommendation"
   ]
  },
  {
   "cell_type": "code",
   "execution_count": 6,
   "id": "ba135690-797d-44c1-9365-cc08409e67a0",
   "metadata": {},
   "outputs": [],
   "source": [
    "#librairies\n",
    "# classic Librairies\n",
    "import numpy as np\n",
    "import pandas as pd\n",
    "import matplotlib.pyplot as plt\n",
    "import seaborn as sns\n",
    "import time\n",
    "import os\n",
    "import shutil\n",
    "\n",
    "#loading embeddings\n",
    "import pickle\n",
    "\n",
    "#sklearn utils\n",
    "from sklearn.model_selection import train_test_split\n",
    "from sklearn.model_selection import StratifiedShuffleSplit\n",
    "from sklearn.neighbors import NearestNeighbors"
   ]
  },
  {
   "cell_type": "code",
   "execution_count": 7,
   "id": "f2666604-3618-413c-a6b1-ff470bc192ca",
   "metadata": {},
   "outputs": [],
   "source": [
    "# 1.1 Load article metadata\n",
    "meta = pd.read_csv(\"data/archive/articles_metadata.csv\")\n",
    "# Ensure ordering matches the embeddings file\n",
    "meta = meta.sort_values(\"article_id\").reset_index(drop=True)\n",
    "\n",
    "# 1.2 Load embeddings (shape ≈ [n_articles, 250])\n",
    "with open(\"data/archive/articles_embeddings.pickle\", \"rb\") as f:\n",
    "    embeddings = pickle.load(f)"
   ]
  },
  {
   "cell_type": "code",
   "execution_count": 16,
   "id": "ad264269-25a8-4b2f-abba-6f1763630bd7",
   "metadata": {},
   "outputs": [
    {
     "data": {
      "text/html": [
       "<div>\n",
       "<style scoped>\n",
       "    .dataframe tbody tr th:only-of-type {\n",
       "        vertical-align: middle;\n",
       "    }\n",
       "\n",
       "    .dataframe tbody tr th {\n",
       "        vertical-align: top;\n",
       "    }\n",
       "\n",
       "    .dataframe thead th {\n",
       "        text-align: right;\n",
       "    }\n",
       "</style>\n",
       "<table border=\"1\" class=\"dataframe\">\n",
       "  <thead>\n",
       "    <tr style=\"text-align: right;\">\n",
       "      <th></th>\n",
       "      <th>article_id</th>\n",
       "      <th>category_id</th>\n",
       "      <th>created_at_ts</th>\n",
       "      <th>publisher_id</th>\n",
       "      <th>words_count</th>\n",
       "    </tr>\n",
       "  </thead>\n",
       "  <tbody>\n",
       "    <tr>\n",
       "      <th>0</th>\n",
       "      <td>0</td>\n",
       "      <td>0</td>\n",
       "      <td>1513144419000</td>\n",
       "      <td>0</td>\n",
       "      <td>168</td>\n",
       "    </tr>\n",
       "    <tr>\n",
       "      <th>1</th>\n",
       "      <td>1</td>\n",
       "      <td>1</td>\n",
       "      <td>1405341936000</td>\n",
       "      <td>0</td>\n",
       "      <td>189</td>\n",
       "    </tr>\n",
       "    <tr>\n",
       "      <th>2</th>\n",
       "      <td>2</td>\n",
       "      <td>1</td>\n",
       "      <td>1408667706000</td>\n",
       "      <td>0</td>\n",
       "      <td>250</td>\n",
       "    </tr>\n",
       "    <tr>\n",
       "      <th>3</th>\n",
       "      <td>3</td>\n",
       "      <td>1</td>\n",
       "      <td>1408468313000</td>\n",
       "      <td>0</td>\n",
       "      <td>230</td>\n",
       "    </tr>\n",
       "    <tr>\n",
       "      <th>4</th>\n",
       "      <td>4</td>\n",
       "      <td>1</td>\n",
       "      <td>1407071171000</td>\n",
       "      <td>0</td>\n",
       "      <td>162</td>\n",
       "    </tr>\n",
       "  </tbody>\n",
       "</table>\n",
       "</div>"
      ],
      "text/plain": [
       "   article_id  category_id  created_at_ts  publisher_id  words_count\n",
       "0           0            0  1513144419000             0          168\n",
       "1           1            1  1405341936000             0          189\n",
       "2           2            1  1408667706000             0          250\n",
       "3           3            1  1408468313000             0          230\n",
       "4           4            1  1407071171000             0          162"
      ]
     },
     "metadata": {},
     "output_type": "display_data"
    },
    {
     "name": "stdout",
     "output_type": "stream",
     "text": [
      "[[-0.16118301 -0.95723313 -0.13794445  0.05085534  0.83005524]\n",
      " [-0.52321565 -0.974058    0.73860806  0.15523443  0.626294  ]\n",
      " [-0.61961854 -0.9729604  -0.20736018 -0.12886102  0.04474759]]\n"
     ]
    }
   ],
   "source": [
    "display(meta.head())\n",
    "print(embeddings[:3, :5])  # first 3 vectors, first 5 dims"
   ]
  },
  {
   "cell_type": "code",
   "execution_count": 20,
   "id": "db7637b4-970b-4c1a-bd45-8c1e26e511ea",
   "metadata": {},
   "outputs": [
    {
     "data": {
      "text/plain": [
       "'# 2.1 Build the index\\nnn = NearestNeighbors(n_neighbors=10, metric=\"cosine\", algorithm=\"auto\")\\nnn.fit(embeddings)\\n\\n# 2.2 Helper to get similar items\\ndef get_similar_articles(article_id, k=5):\\n    # Find row index for this article_id\\n    idx = meta.index[meta[\"article_id\"] == article_id].tolist()\\n    if not idx:\\n        raise ValueError(\"Article ID not found\")\\n    idx = idx[0]\\n    # Query nearest neighbors (includes itself at distance 0)\\n    distances, indices = nn.kneighbors([embeddings[idx]], n_neighbors=k+1)\\n    # Exclude the first (itself)\\n    sim_idxs = indices[0][1:]\\n    return meta.iloc[sim_idxs][[\"article_id\", \"title\", \"category\"]] #error on names'"
      ]
     },
     "execution_count": 20,
     "metadata": {},
     "output_type": "execute_result"
    }
   ],
   "source": [
    "\"\"\"# 2.1 Build the index\n",
    "nn = NearestNeighbors(n_neighbors=10, metric=\"cosine\", algorithm=\"auto\")\n",
    "nn.fit(embeddings)\n",
    "\n",
    "# 2.2 Helper to get similar items\n",
    "def get_similar_articles(article_id, k=5):\n",
    "    # Find row index for this article_id\n",
    "    idx = meta.index[meta[\"article_id\"] == article_id].tolist()\n",
    "    if not idx:\n",
    "        raise ValueError(\"Article ID not found\")\n",
    "    idx = idx[0]\n",
    "    # Query nearest neighbors (includes itself at distance 0)\n",
    "    distances, indices = nn.kneighbors([embeddings[idx]], n_neighbors=k+1)\n",
    "    # Exclude the first (itself)\n",
    "    sim_idxs = indices[0][1:]\n",
    "    return meta.iloc[sim_idxs][[\"article_id\", \"title\", \"category\"]] #error on names\"\"\""
   ]
  },
  {
   "cell_type": "code",
   "execution_count": 23,
   "id": "38ea863a-7520-4443-8182-e98052322a4e",
   "metadata": {},
   "outputs": [
    {
     "name": "stdout",
     "output_type": "stream",
     "text": [
      "   article_id  category  publisher  words_count          created_at  \\\n",
      "0      157514       281          0          300 2017-12-22 09:50:19   \n",
      "1      159284       281          0          245 2018-02-06 14:56:49   \n",
      "2      157555       281          0          313 2017-08-08 15:46:41   \n",
      "3      162369       281          0          314 2017-10-01 12:04:18   \n",
      "4      156355       281          0          283 2017-10-07 17:23:14   \n",
      "\n",
      "   similarity  \n",
      "0    0.926801  \n",
      "1    0.922801  \n",
      "2    0.921066  \n",
      "3    0.918505  \n",
      "4    0.916194  \n"
     ]
    }
   ],
   "source": [
    "# 1. Pré-traitements sur meta\n",
    "# ======================================\n",
    "# Convertis le timestamp Unix en datetime\n",
    "meta[\"created_at\"] = pd.to_datetime(\n",
    "    meta[\"created_at_ts\"],\n",
    "    unit=\"ms\",\n",
    "    origin=\"unix\"\n",
    ")\n",
    "# (Optionnel) Renomme pour plus de clarté\n",
    "meta = meta.rename(columns={\n",
    "    \"category_id\": \"category\",\n",
    "    \"publisher_id\": \"publisher\"\n",
    "})\n",
    "\n",
    "# 2. Ré-indexation des embeddings (si pas déjà fait)\n",
    "# ======================================\n",
    "nn = NearestNeighbors(n_neighbors=10, metric=\"cosine\", algorithm=\"auto\")\n",
    "nn.fit(embeddings)\n",
    "\n",
    "# 3. Fonction de recommandations\n",
    "# ======================================\n",
    "def get_similar_articles(article_id, k=5):\n",
    "    # 3.1 Trouve l’index dans meta\n",
    "    matches = meta.index[meta[\"article_id\"] == article_id].tolist()\n",
    "    if not matches:\n",
    "        raise ValueError(f\"Article ID {article_id} non trouvé dans meta\")\n",
    "    idx = matches[0]\n",
    "    \n",
    "    # 3.2 Recherche des k+1 voisins (le premier est l’article lui-même)\n",
    "    distances, indices = nn.kneighbors(\n",
    "        [embeddings[idx]],\n",
    "        n_neighbors=k+1\n",
    "    )\n",
    "    \n",
    "    # 3.3 Exclusion de l’article pivot et construction du DataFrame résultat\n",
    "    neigh_idxs = indices[0][1:]      # on retire l’auto-voisin\n",
    "    neigh_dists = distances[0][1:]   # distances cosinus\n",
    "    \n",
    "    result = meta.iloc[neigh_idxs][[\n",
    "        \"article_id\", \"category\", \"publisher\", \"words_count\", \"created_at\"\n",
    "    ]].copy()\n",
    "    \n",
    "    # 3.4 Ajout d’une colonne de similarité (1 – distance_cosine)\n",
    "    result[\"similarity\"] = 1 - neigh_dists\n",
    "    \n",
    "    return result.reset_index(drop=True)\n",
    "\n",
    "# 4. Exemple d’utilisation\n",
    "# ======================================\n",
    "print(get_similar_articles(157541, k=5))\n"
   ]
  },
  {
   "cell_type": "code",
   "execution_count": 26,
   "id": "8db66867-bbc5-48b1-80ed-1908b8e9d74d",
   "metadata": {},
   "outputs": [],
   "source": [
    "def build_user_profile(user_clicks, agg=\"mean\"):\n",
    "    \"\"\"\n",
    "    user_clicks: list or array of article_ids the user interacted with\n",
    "    agg: aggregation method (\"mean\" or \"weighted\")\n",
    "    \"\"\"\n",
    "    # Map to indices\n",
    "    idxs = meta.index[meta[\"article_id\"].isin(user_clicks)].tolist()\n",
    "    user_embs = embeddings[idxs]\n",
    "\n",
    "    if agg == \"mean\":\n",
    "        return user_embs.mean(axis=0)\n",
    "    # if you have weights (e.g. recency or click count), you can do:\n",
    "    # elif agg == \"weighted\":\n",
    "    #     weights = np.array([...])  # same length as user_embs\n",
    "    #     return (user_embs * weights[:, None]).sum(axis=0) / weights.sum()\n"
   ]
  },
  {
   "cell_type": "code",
   "execution_count": 29,
   "id": "638d6cf4-fe9f-4967-8529-6e478fc10ded",
   "metadata": {},
   "outputs": [],
   "source": [
    "def recommend_for_user(user_clicks, k=10):\n",
    "    \"\"\"\n",
    "    Retourne les k articles les plus similaires au profil d'un utilisateur.\n",
    "    \n",
    "    user_clicks : iterable de article_id lus/clickés par l'utilisateur\n",
    "    k           : nombre de recommandations à retourner\n",
    "    \"\"\"\n",
    "    # 1. Construction du profil utilisateur\n",
    "    user_vec = build_user_profile(user_clicks, agg=\"mean\")  # ou \"weighted\"\n",
    "\n",
    "    # 2. Recherche des k plus proches voisins dans l'espace des embeddings\n",
    "    distances, indices = nn.kneighbors([user_vec], n_neighbors=k)\n",
    "    neigh_idxs = indices[0]\n",
    "    neigh_dists = distances[0]\n",
    "\n",
    "    # 3. Extraction des métadonnées correspondantes\n",
    "    recs = meta.iloc[neigh_idxs][[\n",
    "        \"article_id\", \"category\", \"publisher\", \"words_count\", \"created_at\"\n",
    "    ]].copy()\n",
    "\n",
    "    # 4. Ajout d'un score de similarité (1 – distance cosinus)\n",
    "    recs[\"similarity\"] = 1 - neigh_dists\n",
    "\n",
    "    # 5. Réindexation propre du DataFrame\n",
    "    return recs.reset_index(drop=True)\n"
   ]
  },
  {
   "cell_type": "code",
   "execution_count": 27,
   "id": "6a24577d-178f-4bfa-983b-65bca094d164",
   "metadata": {},
   "outputs": [],
   "source": [
    "\"\"\"def recommend_for_user(user_clicks, k=10):\n",
    "    user_vec = build_user_profile(user_clicks)\n",
    "    dists, idxs = nn.kneighbors([user_vec], n_neighbors=k)\n",
    "    recs = meta.iloc[idxs[0]][[\"article_id\", \"title\", \"category\"]] #error on names\n",
    "    return recs\"\"\""
   ]
  },
  {
   "cell_type": "code",
   "execution_count": 31,
   "id": "5ecf33eb-e936-40ed-a396-27a892b7fcde",
   "metadata": {},
   "outputs": [
    {
     "name": "stdout",
     "output_type": "stream",
     "text": [
      "   article_id  category  publisher  words_count          created_at  \\\n",
      "0      157970       281          0          235 2017-09-07 10:38:44   \n",
      "1       71420       136          0          299 2017-12-27 19:39:20   \n",
      "2      280719       412          0          223 2015-11-05 07:25:59   \n",
      "3      158910       281          0          322 2017-01-12 10:17:20   \n",
      "4       68685       136          0          309 2017-03-14 15:20:19   \n",
      "\n",
      "   similarity  \n",
      "0    0.852583  \n",
      "1    0.841069  \n",
      "2    0.839749  \n",
      "3    0.835680  \n",
      "4    0.835100  \n"
     ]
    }
   ],
   "source": [
    "# Suppose user 42 has read articles [157541, 280367, 71301]\n",
    "print(recommend_for_user([157541, 280367, 71301], k=5))"
   ]
  },
  {
   "cell_type": "code",
   "execution_count": null,
   "id": "bc1970ad-2d19-41fc-a49c-d42043630912",
   "metadata": {},
   "outputs": [],
   "source": [
    "\"\"\"# Only recommend articles from last 7 days\n",
    "meta[\"pub_date\"] = pd.to_datetime(meta[\"pub_date\"])\n",
    "recent_mask = meta[\"pub_date\"] >= (pd.Timestamp.now() - pd.Timedelta(days=7))\n",
    "\n",
    "def recommend_for_user_filtered(user_clicks, k=10, category=None, recent_days=None):\n",
    "    user_vec = build_user_profile(user_clicks)\n",
    "    dists, idxs = nn.kneighbors([user_vec], n_neighbors=500)  # larger pool\n",
    "    candidates = meta.iloc[idxs[0]].copy()\n",
    "    if category:\n",
    "        candidates = candidates[candidates[\"category\"] == category]\n",
    "    if recent_days:\n",
    "        cutoff = pd.Timestamp.now() - pd.Timedelta(days=recent_days)\n",
    "        candidates = candidates[candidates[\"pub_date\"] >= cutoff]\n",
    "    return candidates.head(k)[[\"article_id\",\"title\",\"category\",\"pub_date\"]] #error on names\n",
    "    \"\"\""
   ]
  },
  {
   "cell_type": "code",
   "execution_count": 47,
   "id": "af6612c6-e77d-4fc5-baef-85f175d36821",
   "metadata": {},
   "outputs": [],
   "source": [
    "def recommend_for_user_filtered(user_clicks, k=10, category=None, recent_days=None):\n",
    "    \"\"\"\n",
    "    Recommande les k articles les plus similaires au profil d'un utilisateur,\n",
    "    avec optional filtering on numeric category ID and freshness.\n",
    "    \n",
    "    user_clicks : iterable of article_id lus/clickés par l'utilisateur\n",
    "    k           : nombre de recommandations souhaitées\n",
    "    category    : int (category ID) à filtrer, ou None\n",
    "    recent_days : int (seuil de fraîcheur en jours), ou None\n",
    "    \"\"\"\n",
    "    # 1. Profil utilisateur\n",
    "    user_vec = build_user_profile(user_clicks, agg=\"mean\")\n",
    "    \n",
    "    # 2. On élargit le nombre de voisins pour pouvoir filtrer ensuite\n",
    "    dists, idxs = nn.kneighbors([user_vec], n_neighbors=500)\n",
    "    neigh_idxs  = idxs[0]\n",
    "    neigh_dists = dists[0]\n",
    "    \n",
    "    # 3. On construit le DataFrame candidats\n",
    "    candidates = meta.iloc[neigh_idxs].copy()\n",
    "    candidates[\"similarity\"] = 1 - neigh_dists\n",
    "    \n",
    "    # 4. Filtrage par catégorie (numeric ID)\n",
    "    if category is not None:\n",
    "        candidates = candidates[candidates[\"category\"] == category]\n",
    "    \n",
    "    # 5. Filtrage par fraîcheur (created_at)\n",
    "    if recent_days is not None:\n",
    "        max_date = meta[\"created_at\"].max()\n",
    "        cutoff = max_date - pd.Timedelta(days=recent_days)\n",
    "        candidates = candidates[candidates[\"created_at\"] >= cutoff]\n",
    "    \n",
    "    # 6. Sélection des k premiers et choix des colonnes utiles\n",
    "    return (\n",
    "        candidates\n",
    "        .sort_values(\"similarity\", ascending=False)\n",
    "        .head(k)\n",
    "        .reset_index(drop=True)[\n",
    "            [\"article_id\", \"category\", \"publisher\", \"words_count\", \"created_at\", \"similarity\"]\n",
    "        ]\n",
    "    )"
   ]
  },
  {
   "cell_type": "code",
   "execution_count": 103,
   "id": "8adcc018-899b-4609-95df-b0c9b0a87ffa",
   "metadata": {},
   "outputs": [
    {
     "name": "stdout",
     "output_type": "stream",
     "text": [
      "   article_id  category  publisher  words_count          created_at  \\\n",
      "0      157970       281          0          235 2017-09-07 10:38:44   \n",
      "1       71420       136          0          299 2017-12-27 19:39:20   \n",
      "2      158910       281          0          322 2017-01-12 10:17:20   \n",
      "3       68685       136          0          309 2017-03-14 15:20:19   \n",
      "4      289209       420          0          280 2017-09-20 10:30:57   \n",
      "\n",
      "   similarity  \n",
      "0    0.852583  \n",
      "1    0.841069  \n",
      "2    0.835680  \n",
      "3    0.835100  \n",
      "4    0.834944  \n"
     ]
    }
   ],
   "source": [
    "# Exemple : filtrer pour la catégorie 10 et les 7 derniers jours\n",
    "recs = recommend_for_user_filtered(\n",
    "    user_clicks=[157541, 280367, 71301],\n",
    "    k=5,\n",
    "    category=None,\n",
    "    recent_days=700\n",
    ")\n",
    "print(recs)"
   ]
  },
  {
   "cell_type": "markdown",
   "id": "1e04c3b3-01d0-4e82-846b-9d1899a7dcb9",
   "metadata": {},
   "source": [
    "Giving a list of articles read by user returns us with a list of articles they might like\n",
    "\n",
    "This still lacks completion, as we only filter by the content's embedding\n",
    "\n",
    "We will move on to collaborative filtering, on which we'll build recommendation based on user's behavior"
   ]
  }
 ],
 "metadata": {
  "kernelspec": {
   "display_name": "Python 3 (ipykernel)",
   "language": "python",
   "name": "python3"
  },
  "language_info": {
   "codemirror_mode": {
    "name": "ipython",
    "version": 3
   },
   "file_extension": ".py",
   "mimetype": "text/x-python",
   "name": "python",
   "nbconvert_exporter": "python",
   "pygments_lexer": "ipython3",
   "version": "3.11.11"
  }
 },
 "nbformat": 4,
 "nbformat_minor": 5
}
