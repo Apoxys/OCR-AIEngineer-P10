{
 "cells": [
  {
   "cell_type": "markdown",
   "id": "39d05e78-10c8-4595-af23-8589b9064b4b",
   "metadata": {},
   "source": [
    "# Collaborative filtering"
   ]
  },
  {
   "cell_type": "code",
   "execution_count": 141,
   "id": "897f934a-8b9d-42bc-abbb-eb86e4f972a7",
   "metadata": {},
   "outputs": [],
   "source": [
    "#librairies\n",
    "# classic Librairies\n",
    "import numpy as np\n",
    "import pandas as pd\n",
    "import matplotlib.pyplot as plt\n",
    "import seaborn as sns\n",
    "import time\n",
    "import os\n",
    "import shutil\n",
    "\n",
    "#loading embeddings\n",
    "import pickle\n",
    "\n",
    "#sklearn utils\n",
    "#from sklearn.model_selection import train_test_split\n",
    "from sklearn.model_selection import StratifiedShuffleSplit\n",
    "from sklearn.neighbors import NearestNeighbors\n",
    "\n",
    "#surprise\n",
    "from surprise import Dataset, Reader, SVD, KNNBasic\n",
    "from surprise.model_selection import train_test_split #really different from sklearn's ? \n",
    "from surprise import accuracy"
   ]
  },
  {
   "cell_type": "code",
   "execution_count": 142,
   "id": "dcd44ebf-d55a-4eab-8a23-897f4e8ad7ee",
   "metadata": {},
   "outputs": [
    {
     "name": "stdout",
     "output_type": "stream",
     "text": [
      "385\n"
     ]
    }
   ],
   "source": [
    "#check if .ipynb files have been generated : len should be 385\n",
    "path = \"data/archive/clicks/clicks\"\n",
    "list_of_files = os.listdir(path)\n",
    "print(len(list_of_files))"
   ]
  },
  {
   "cell_type": "code",
   "execution_count": 143,
   "id": "b47fa763-9a36-4470-8cae-ccc18c4dd03f",
   "metadata": {},
   "outputs": [],
   "source": [
    "#concat all files in one\n",
    "dfs = []\n",
    "for file in list_of_files:\n",
    "    file_path = os.path.join(path, file)\n",
    "    dfs.append(pd.read_csv(file_path))\n",
    "clicks_full = pd.concat(dfs, ignore_index=True)"
   ]
  },
  {
   "cell_type": "code",
   "execution_count": 144,
   "id": "01789169-4135-4a89-992b-65e9e737a717",
   "metadata": {},
   "outputs": [
    {
     "name": "stdout",
     "output_type": "stream",
     "text": [
      "Full size data set : (2988181, 12)\n"
     ]
    }
   ],
   "source": [
    "print(\"Full size data set :\", clicks_full.shape)"
   ]
  },
  {
   "cell_type": "code",
   "execution_count": 145,
   "id": "8d24d237-267f-424d-94e6-554decda5325",
   "metadata": {},
   "outputs": [
    {
     "data": {
      "text/html": [
       "<div>\n",
       "<style scoped>\n",
       "    .dataframe tbody tr th:only-of-type {\n",
       "        vertical-align: middle;\n",
       "    }\n",
       "\n",
       "    .dataframe tbody tr th {\n",
       "        vertical-align: top;\n",
       "    }\n",
       "\n",
       "    .dataframe thead th {\n",
       "        text-align: right;\n",
       "    }\n",
       "</style>\n",
       "<table border=\"1\" class=\"dataframe\">\n",
       "  <thead>\n",
       "    <tr style=\"text-align: right;\">\n",
       "      <th></th>\n",
       "      <th>user_id</th>\n",
       "      <th>session_id</th>\n",
       "      <th>session_start</th>\n",
       "      <th>session_size</th>\n",
       "      <th>click_article_id</th>\n",
       "      <th>click_timestamp</th>\n",
       "      <th>click_environment</th>\n",
       "      <th>click_deviceGroup</th>\n",
       "      <th>click_os</th>\n",
       "      <th>click_country</th>\n",
       "      <th>click_region</th>\n",
       "      <th>click_referrer_type</th>\n",
       "    </tr>\n",
       "  </thead>\n",
       "  <tbody>\n",
       "    <tr>\n",
       "      <th>0</th>\n",
       "      <td>0</td>\n",
       "      <td>1506825423271737</td>\n",
       "      <td>1506825423000</td>\n",
       "      <td>2</td>\n",
       "      <td>157541</td>\n",
       "      <td>1506826828020</td>\n",
       "      <td>4</td>\n",
       "      <td>3</td>\n",
       "      <td>20</td>\n",
       "      <td>1</td>\n",
       "      <td>20</td>\n",
       "      <td>2</td>\n",
       "    </tr>\n",
       "    <tr>\n",
       "      <th>1</th>\n",
       "      <td>0</td>\n",
       "      <td>1506825423271737</td>\n",
       "      <td>1506825423000</td>\n",
       "      <td>2</td>\n",
       "      <td>68866</td>\n",
       "      <td>1506826858020</td>\n",
       "      <td>4</td>\n",
       "      <td>3</td>\n",
       "      <td>20</td>\n",
       "      <td>1</td>\n",
       "      <td>20</td>\n",
       "      <td>2</td>\n",
       "    </tr>\n",
       "    <tr>\n",
       "      <th>2</th>\n",
       "      <td>1</td>\n",
       "      <td>1506825426267738</td>\n",
       "      <td>1506825426000</td>\n",
       "      <td>2</td>\n",
       "      <td>235840</td>\n",
       "      <td>1506827017951</td>\n",
       "      <td>4</td>\n",
       "      <td>1</td>\n",
       "      <td>17</td>\n",
       "      <td>1</td>\n",
       "      <td>16</td>\n",
       "      <td>2</td>\n",
       "    </tr>\n",
       "    <tr>\n",
       "      <th>3</th>\n",
       "      <td>1</td>\n",
       "      <td>1506825426267738</td>\n",
       "      <td>1506825426000</td>\n",
       "      <td>2</td>\n",
       "      <td>96663</td>\n",
       "      <td>1506827047951</td>\n",
       "      <td>4</td>\n",
       "      <td>1</td>\n",
       "      <td>17</td>\n",
       "      <td>1</td>\n",
       "      <td>16</td>\n",
       "      <td>2</td>\n",
       "    </tr>\n",
       "    <tr>\n",
       "      <th>4</th>\n",
       "      <td>2</td>\n",
       "      <td>1506825435299739</td>\n",
       "      <td>1506825435000</td>\n",
       "      <td>2</td>\n",
       "      <td>119592</td>\n",
       "      <td>1506827090575</td>\n",
       "      <td>4</td>\n",
       "      <td>1</td>\n",
       "      <td>17</td>\n",
       "      <td>1</td>\n",
       "      <td>24</td>\n",
       "      <td>2</td>\n",
       "    </tr>\n",
       "  </tbody>\n",
       "</table>\n",
       "</div>"
      ],
      "text/plain": [
       "   user_id        session_id  session_start  session_size  click_article_id  \\\n",
       "0        0  1506825423271737  1506825423000             2            157541   \n",
       "1        0  1506825423271737  1506825423000             2             68866   \n",
       "2        1  1506825426267738  1506825426000             2            235840   \n",
       "3        1  1506825426267738  1506825426000             2             96663   \n",
       "4        2  1506825435299739  1506825435000             2            119592   \n",
       "\n",
       "   click_timestamp  click_environment  click_deviceGroup  click_os  \\\n",
       "0    1506826828020                  4                  3        20   \n",
       "1    1506826858020                  4                  3        20   \n",
       "2    1506827017951                  4                  1        17   \n",
       "3    1506827047951                  4                  1        17   \n",
       "4    1506827090575                  4                  1        17   \n",
       "\n",
       "   click_country  click_region  click_referrer_type  \n",
       "0              1            20                    2  \n",
       "1              1            20                    2  \n",
       "2              1            16                    2  \n",
       "3              1            16                    2  \n",
       "4              1            24                    2  "
      ]
     },
     "execution_count": 145,
     "metadata": {},
     "output_type": "execute_result"
    }
   ],
   "source": [
    "#loading sample\n",
    "data_sample = pd.read_csv(\"data/archive/clicks_sample.csv\")\n",
    "data_sample.head()"
   ]
  },
  {
   "cell_type": "code",
   "execution_count": 146,
   "id": "0a308d19-eee9-4a0f-833c-eab201d67217",
   "metadata": {},
   "outputs": [],
   "source": [
    "#create rating\n",
    "ratings = (\n",
    "    data_sample\n",
    "    .groupby([\"user_id\",\"click_article_id\"])\n",
    "    .size()\n",
    "    .reset_index(name=\"rating\")\n",
    ")\n"
   ]
  },
  {
   "cell_type": "code",
   "execution_count": 147,
   "id": "6151a553-8e07-4fed-a20e-9df171a42ac4",
   "metadata": {},
   "outputs": [
    {
     "data": {
      "text/html": [
       "<div>\n",
       "<style scoped>\n",
       "    .dataframe tbody tr th:only-of-type {\n",
       "        vertical-align: middle;\n",
       "    }\n",
       "\n",
       "    .dataframe tbody tr th {\n",
       "        vertical-align: top;\n",
       "    }\n",
       "\n",
       "    .dataframe thead th {\n",
       "        text-align: right;\n",
       "    }\n",
       "</style>\n",
       "<table border=\"1\" class=\"dataframe\">\n",
       "  <thead>\n",
       "    <tr style=\"text-align: right;\">\n",
       "      <th></th>\n",
       "      <th>user_id</th>\n",
       "      <th>click_article_id</th>\n",
       "      <th>rating</th>\n",
       "    </tr>\n",
       "  </thead>\n",
       "  <tbody>\n",
       "    <tr>\n",
       "      <th>0</th>\n",
       "      <td>0</td>\n",
       "      <td>68866</td>\n",
       "      <td>1</td>\n",
       "    </tr>\n",
       "    <tr>\n",
       "      <th>1</th>\n",
       "      <td>0</td>\n",
       "      <td>157541</td>\n",
       "      <td>1</td>\n",
       "    </tr>\n",
       "    <tr>\n",
       "      <th>2</th>\n",
       "      <td>1</td>\n",
       "      <td>96663</td>\n",
       "      <td>1</td>\n",
       "    </tr>\n",
       "    <tr>\n",
       "      <th>3</th>\n",
       "      <td>1</td>\n",
       "      <td>235840</td>\n",
       "      <td>1</td>\n",
       "    </tr>\n",
       "    <tr>\n",
       "      <th>4</th>\n",
       "      <td>2</td>\n",
       "      <td>30970</td>\n",
       "      <td>1</td>\n",
       "    </tr>\n",
       "  </tbody>\n",
       "</table>\n",
       "</div>"
      ],
      "text/plain": [
       "   user_id  click_article_id  rating\n",
       "0        0             68866       1\n",
       "1        0            157541       1\n",
       "2        1             96663       1\n",
       "3        1            235840       1\n",
       "4        2             30970       1"
      ]
     },
     "execution_count": 147,
     "metadata": {},
     "output_type": "execute_result"
    }
   ],
   "source": [
    "ratings.head()"
   ]
  },
  {
   "cell_type": "code",
   "execution_count": 148,
   "id": "e78ce9ed-81f2-4f07-9224-03cb34abcf72",
   "metadata": {},
   "outputs": [],
   "source": [
    "reader = Reader(rating_scale=(1, ratings.rating.max()))\n",
    "data   = Dataset.load_from_df(ratings[[\"user_id\",\"click_article_id\",\"rating\"]], reader)\n",
    "trainset, testset = train_test_split(data, test_size=0.2, random_state=42)"
   ]
  },
  {
   "cell_type": "code",
   "execution_count": 149,
   "id": "f500678b-50b2-4ed0-bd09-3233eda4dabc",
   "metadata": {},
   "outputs": [
    {
     "name": "stdout",
     "output_type": "stream",
     "text": [
      "rating\n",
      "1    1883\n",
      "Name: count, dtype: int64\n"
     ]
    }
   ],
   "source": [
    "print(ratings[\"rating\"].value_counts().sort_index())\n"
   ]
  },
  {
   "cell_type": "code",
   "execution_count": 150,
   "id": "3eea621c-b23e-445e-8604-8df2beb7ae6b",
   "metadata": {},
   "outputs": [
    {
     "name": "stdout",
     "output_type": "stream",
     "text": [
      "RMSE: 0.0000\n",
      "RMSE: 0.0\n",
      "MAE:  0.0000\n",
      "MAE:  0.0\n"
     ]
    }
   ],
   "source": [
    "algo = SVD(n_factors=50, random_state=42)\n",
    "algo.fit(trainset)\n",
    "preds = algo.test(testset)\n",
    "print(\"RMSE:\", accuracy.rmse(preds))\n",
    "print(\"MAE: \", accuracy.mae(preds))"
   ]
  },
  {
   "cell_type": "code",
   "execution_count": 151,
   "id": "8017b037-6377-461a-afec-0bb8aca7409b",
   "metadata": {},
   "outputs": [
    {
     "name": "stdout",
     "output_type": "stream",
     "text": [
      "(1883, 12)\n"
     ]
    },
    {
     "data": {
      "text/html": [
       "<div>\n",
       "<style scoped>\n",
       "    .dataframe tbody tr th:only-of-type {\n",
       "        vertical-align: middle;\n",
       "    }\n",
       "\n",
       "    .dataframe tbody tr th {\n",
       "        vertical-align: top;\n",
       "    }\n",
       "\n",
       "    .dataframe thead th {\n",
       "        text-align: right;\n",
       "    }\n",
       "</style>\n",
       "<table border=\"1\" class=\"dataframe\">\n",
       "  <thead>\n",
       "    <tr style=\"text-align: right;\">\n",
       "      <th></th>\n",
       "      <th>user_id</th>\n",
       "      <th>session_id</th>\n",
       "      <th>session_start</th>\n",
       "      <th>session_size</th>\n",
       "      <th>click_article_id</th>\n",
       "      <th>click_timestamp</th>\n",
       "      <th>click_environment</th>\n",
       "      <th>click_deviceGroup</th>\n",
       "      <th>click_os</th>\n",
       "      <th>click_country</th>\n",
       "      <th>click_region</th>\n",
       "      <th>click_referrer_type</th>\n",
       "    </tr>\n",
       "  </thead>\n",
       "  <tbody>\n",
       "    <tr>\n",
       "      <th>0</th>\n",
       "      <td>0</td>\n",
       "      <td>1506825423271737</td>\n",
       "      <td>1506825423000</td>\n",
       "      <td>2</td>\n",
       "      <td>157541</td>\n",
       "      <td>1506826828020</td>\n",
       "      <td>4</td>\n",
       "      <td>3</td>\n",
       "      <td>20</td>\n",
       "      <td>1</td>\n",
       "      <td>20</td>\n",
       "      <td>2</td>\n",
       "    </tr>\n",
       "    <tr>\n",
       "      <th>1</th>\n",
       "      <td>0</td>\n",
       "      <td>1506825423271737</td>\n",
       "      <td>1506825423000</td>\n",
       "      <td>2</td>\n",
       "      <td>68866</td>\n",
       "      <td>1506826858020</td>\n",
       "      <td>4</td>\n",
       "      <td>3</td>\n",
       "      <td>20</td>\n",
       "      <td>1</td>\n",
       "      <td>20</td>\n",
       "      <td>2</td>\n",
       "    </tr>\n",
       "    <tr>\n",
       "      <th>2</th>\n",
       "      <td>1</td>\n",
       "      <td>1506825426267738</td>\n",
       "      <td>1506825426000</td>\n",
       "      <td>2</td>\n",
       "      <td>235840</td>\n",
       "      <td>1506827017951</td>\n",
       "      <td>4</td>\n",
       "      <td>1</td>\n",
       "      <td>17</td>\n",
       "      <td>1</td>\n",
       "      <td>16</td>\n",
       "      <td>2</td>\n",
       "    </tr>\n",
       "    <tr>\n",
       "      <th>3</th>\n",
       "      <td>1</td>\n",
       "      <td>1506825426267738</td>\n",
       "      <td>1506825426000</td>\n",
       "      <td>2</td>\n",
       "      <td>96663</td>\n",
       "      <td>1506827047951</td>\n",
       "      <td>4</td>\n",
       "      <td>1</td>\n",
       "      <td>17</td>\n",
       "      <td>1</td>\n",
       "      <td>16</td>\n",
       "      <td>2</td>\n",
       "    </tr>\n",
       "    <tr>\n",
       "      <th>4</th>\n",
       "      <td>2</td>\n",
       "      <td>1506825435299739</td>\n",
       "      <td>1506825435000</td>\n",
       "      <td>2</td>\n",
       "      <td>119592</td>\n",
       "      <td>1506827090575</td>\n",
       "      <td>4</td>\n",
       "      <td>1</td>\n",
       "      <td>17</td>\n",
       "      <td>1</td>\n",
       "      <td>24</td>\n",
       "      <td>2</td>\n",
       "    </tr>\n",
       "  </tbody>\n",
       "</table>\n",
       "</div>"
      ],
      "text/plain": [
       "   user_id        session_id  session_start  session_size  click_article_id  \\\n",
       "0        0  1506825423271737  1506825423000             2            157541   \n",
       "1        0  1506825423271737  1506825423000             2             68866   \n",
       "2        1  1506825426267738  1506825426000             2            235840   \n",
       "3        1  1506825426267738  1506825426000             2             96663   \n",
       "4        2  1506825435299739  1506825435000             2            119592   \n",
       "\n",
       "   click_timestamp  click_environment  click_deviceGroup  click_os  \\\n",
       "0    1506826828020                  4                  3        20   \n",
       "1    1506826858020                  4                  3        20   \n",
       "2    1506827017951                  4                  1        17   \n",
       "3    1506827047951                  4                  1        17   \n",
       "4    1506827090575                  4                  1        17   \n",
       "\n",
       "   click_country  click_region  click_referrer_type  \n",
       "0              1            20                    2  \n",
       "1              1            20                    2  \n",
       "2              1            16                    2  \n",
       "3              1            16                    2  \n",
       "4              1            24                    2  "
      ]
     },
     "metadata": {},
     "output_type": "display_data"
    },
    {
     "name": "stdout",
     "output_type": "stream",
     "text": [
      "<class 'pandas.core.frame.DataFrame'>\n",
      "RangeIndex: 1883 entries, 0 to 1882\n",
      "Data columns (total 12 columns):\n",
      " #   Column               Non-Null Count  Dtype\n",
      "---  ------               --------------  -----\n",
      " 0   user_id              1883 non-null   int64\n",
      " 1   session_id           1883 non-null   int64\n",
      " 2   session_start        1883 non-null   int64\n",
      " 3   session_size         1883 non-null   int64\n",
      " 4   click_article_id     1883 non-null   int64\n",
      " 5   click_timestamp      1883 non-null   int64\n",
      " 6   click_environment    1883 non-null   int64\n",
      " 7   click_deviceGroup    1883 non-null   int64\n",
      " 8   click_os             1883 non-null   int64\n",
      " 9   click_country        1883 non-null   int64\n",
      " 10  click_region         1883 non-null   int64\n",
      " 11  click_referrer_type  1883 non-null   int64\n",
      "dtypes: int64(12)\n",
      "memory usage: 176.7 KB\n",
      "None\n",
      "Nulls : 0\n",
      "Doublons : 0\n",
      "Users uniques : 707\n",
      "Articles uniques : 323\n"
     ]
    }
   ],
   "source": [
    "#EDA\n",
    "# 2.2 Aperçu\n",
    "print(data_sample.shape)\n",
    "display(data_sample.head())\n",
    "print(data_sample.info())\n",
    "\n",
    "# 2.3 Valeurs manquantes / doublons\n",
    "print(\"Nulls :\", data_sample.isna().sum().sum())\n",
    "print(\"Doublons :\", data_sample.duplicated().sum())\n",
    "\n",
    "# 2.4 Nombre d’utilisateurs / articles\n",
    "print(\"Users uniques :\", data_sample[\"user_id\"].nunique())\n",
    "print(\"Articles uniques :\", data_sample[\"click_article_id\"].nunique())\n"
   ]
  },
  {
   "cell_type": "code",
   "execution_count": 152,
   "id": "b4faf1d3-e799-4433-a24a-da4affc8c543",
   "metadata": {},
   "outputs": [
    {
     "name": "stdout",
     "output_type": "stream",
     "text": [
      "(1883, 3)\n"
     ]
    },
    {
     "data": {
      "text/html": [
       "<div>\n",
       "<style scoped>\n",
       "    .dataframe tbody tr th:only-of-type {\n",
       "        vertical-align: middle;\n",
       "    }\n",
       "\n",
       "    .dataframe tbody tr th {\n",
       "        vertical-align: top;\n",
       "    }\n",
       "\n",
       "    .dataframe thead th {\n",
       "        text-align: right;\n",
       "    }\n",
       "</style>\n",
       "<table border=\"1\" class=\"dataframe\">\n",
       "  <thead>\n",
       "    <tr style=\"text-align: right;\">\n",
       "      <th></th>\n",
       "      <th>user_id</th>\n",
       "      <th>click_article_id</th>\n",
       "      <th>rating</th>\n",
       "    </tr>\n",
       "  </thead>\n",
       "  <tbody>\n",
       "    <tr>\n",
       "      <th>0</th>\n",
       "      <td>0</td>\n",
       "      <td>68866</td>\n",
       "      <td>1</td>\n",
       "    </tr>\n",
       "    <tr>\n",
       "      <th>1</th>\n",
       "      <td>0</td>\n",
       "      <td>157541</td>\n",
       "      <td>1</td>\n",
       "    </tr>\n",
       "    <tr>\n",
       "      <th>2</th>\n",
       "      <td>1</td>\n",
       "      <td>96663</td>\n",
       "      <td>1</td>\n",
       "    </tr>\n",
       "    <tr>\n",
       "      <th>3</th>\n",
       "      <td>1</td>\n",
       "      <td>235840</td>\n",
       "      <td>1</td>\n",
       "    </tr>\n",
       "    <tr>\n",
       "      <th>4</th>\n",
       "      <td>2</td>\n",
       "      <td>30970</td>\n",
       "      <td>1</td>\n",
       "    </tr>\n",
       "  </tbody>\n",
       "</table>\n",
       "</div>"
      ],
      "text/plain": [
       "   user_id  click_article_id  rating\n",
       "0        0             68866       1\n",
       "1        0            157541       1\n",
       "2        1             96663       1\n",
       "3        1            235840       1\n",
       "4        2             30970       1"
      ]
     },
     "metadata": {},
     "output_type": "display_data"
    },
    {
     "name": "stdout",
     "output_type": "stream",
     "text": [
      "count    1883.0\n",
      "mean        1.0\n",
      "std         0.0\n",
      "min         1.0\n",
      "25%         1.0\n",
      "50%         1.0\n",
      "75%         1.0\n",
      "max         1.0\n",
      "Name: rating, dtype: float64\n"
     ]
    }
   ],
   "source": [
    "# 3.2 Agréger en comptant les clics par (user, article)\n",
    "ratings = (\n",
    "    data_sample\n",
    "    .groupby([\"user_id\",\"click_article_id\"])\n",
    "    .size()\n",
    "    .reset_index(name=\"rating\")\n",
    ")\n",
    "\n",
    "print(ratings.shape)\n",
    "display(ratings.head())\n",
    "print(ratings[\"rating\"].describe())\n"
   ]
  },
  {
   "cell_type": "code",
   "execution_count": 157,
   "id": "d9aba5a4-4675-45f6-8964-1329de159b9a",
   "metadata": {},
   "outputs": [
    {
     "name": "stdout",
     "output_type": "stream",
     "text": [
      "RMSE: 0.0000\n",
      "RMSE : 0.0\n",
      "MAE:  0.0000\n",
      "MAE  : 0.0\n"
     ]
    }
   ],
   "source": [
    "from surprise import Dataset, Reader, SVD\n",
    "from surprise.model_selection import train_test_split\n",
    "from surprise import accuracy\n",
    "\n",
    "# 4.1 Création de l’objet Dataset\n",
    "reader = Reader(rating_scale=(ratings[\"rating\"].min(), ratings[\"rating\"].max()))\n",
    "data = Dataset.load_from_df(ratings[[\"user_id\",\"click_article_id\",\"rating\"]], reader)\n",
    "\n",
    "# 4.2 Split train/test\n",
    "trainset, testset = train_test_split(data, test_size=0.2, random_state=42)\n",
    "\n",
    "# 4.3 Entraînement d’un SVD de base\n",
    "algo = SVD(n_factors=50, random_state=42)\n",
    "algo.fit(trainset)\n",
    "\n",
    "# 4.4 Évaluation\n",
    "preds = algo.test(testset)\n",
    "print(\"RMSE :\", accuracy.rmse(preds))\n",
    "print(\"MAE  :\", accuracy.mae(preds))\n"
   ]
  },
  {
   "cell_type": "code",
   "execution_count": 158,
   "id": "575811b6-2aaf-43f0-9f8a-2a04ddd4278e",
   "metadata": {},
   "outputs": [
    {
     "name": "stdout",
     "output_type": "stream",
     "text": [
      "Precision@5 = 0.2591, Recall@5 = 1.0000\n"
     ]
    }
   ],
   "source": [
    "from collections import defaultdict\n",
    "import numpy as np\n",
    "\n",
    "def precision_recall_at_k(predictions, k=5, threshold=1.0):\n",
    "    # Regrouper les prédictions par user\n",
    "    user_pred = defaultdict(list)\n",
    "    user_true = defaultdict(set)\n",
    "    for uid, iid, true_r, est, _ in predictions:\n",
    "        user_pred[uid].append((iid, est))\n",
    "        if true_r >= threshold:\n",
    "            user_true[uid].add(iid)\n",
    "\n",
    "    precisions, recalls = [], []\n",
    "    for uid, preds in user_pred.items():\n",
    "        # top-k par score estimé\n",
    "        top_k = [iid for (iid, _) in sorted(preds, key=lambda x: x[1], reverse=True)[:k]]\n",
    "        n_rel = len(user_true[uid])\n",
    "        n_rec_k = len([i for i in top_k if i in user_true[uid]])\n",
    "        precisions.append(n_rec_k / k)\n",
    "        recalls.append(n_rec_k / n_rel if n_rel else 0)\n",
    "\n",
    "    return np.mean(precisions), np.mean(recalls)\n",
    "\n",
    "prec, rec = precision_recall_at_k(preds, k=5, threshold=1.0)\n",
    "print(f\"Precision@5 = {prec:.4f}, Recall@5 = {rec:.4f}\")\n"
   ]
  },
  {
   "cell_type": "code",
   "execution_count": 159,
   "id": "89af9577-4eb4-4c5c-8b24-4767c5e2bb6c",
   "metadata": {},
   "outputs": [
    {
     "name": "stdout",
     "output_type": "stream",
     "text": [
      "IDs uniques dans clicks : 46033\n",
      "IDs uniques dans meta   : 364047\n",
      "IDs en commun           : 46033 (100.0% des IDs de clics)\n",
      "IDs en clicks mais pas en meta : 0\n",
      "Quelques exemples : []\n",
      "IDs en meta mais pas en clicks : 318014\n",
      "Quelques exemples : [0, 1, 2, 4, 5, 6, 7, 8, 9, 10]\n"
     ]
    }
   ],
   "source": [
    "data_meta = pd.read_csv(\"data/archive/articles_metadata.csv\")\n",
    "# 1. Vérification de la correspondance des IDs\n",
    "click_ids = set(clicks_full[\"click_article_id\"].unique())\n",
    "meta_ids  = set(data_meta[\"article_id\"].unique())\n",
    "\n",
    "n_click_ids   = len(click_ids)\n",
    "n_meta_ids    = len(meta_ids)\n",
    "n_common_ids  = len(click_ids & meta_ids)\n",
    "\n",
    "print(f\"IDs uniques dans clicks : {n_click_ids}\")\n",
    "print(f\"IDs uniques dans meta   : {n_meta_ids}\")\n",
    "print(f\"IDs en commun           : {n_common_ids} ({n_common_ids/n_click_ids:.1%} des IDs de clics)\")\n",
    "\n",
    "# 2. IDs présents dans clicks mais pas dans meta\n",
    "missing_in_meta = click_ids - meta_ids\n",
    "print(f\"IDs en clicks mais pas en meta : {len(missing_in_meta)}\")\n",
    "print(\"Quelques exemples :\", list(missing_in_meta)[:10])\n",
    "\n",
    "# 3. IDs présents dans meta mais pas dans clicks\n",
    "missing_in_clicks = meta_ids - click_ids\n",
    "print(f\"IDs en meta mais pas en clicks : {len(missing_in_clicks)}\")\n",
    "print(\"Quelques exemples :\", list(missing_in_clicks)[:10])"
   ]
  },
  {
   "cell_type": "markdown",
   "id": "b7513d92-fba0-416e-827c-3db057054c37",
   "metadata": {},
   "source": [
    "Which implies that users have read the same articles multiples times, and that some articles have never been read\n",
    "\n",
    "Sounds strange and inaccurate\n",
    "\n",
    "Retrain now with full dataset"
   ]
  },
  {
   "cell_type": "code",
   "execution_count": 161,
   "id": "55abdb5d-f60a-4756-bdec-449454eecde5",
   "metadata": {},
   "outputs": [
    {
     "name": "stdout",
     "output_type": "stream",
     "text": [
      "(2950710, 3)\n"
     ]
    },
    {
     "data": {
      "text/html": [
       "<div>\n",
       "<style scoped>\n",
       "    .dataframe tbody tr th:only-of-type {\n",
       "        vertical-align: middle;\n",
       "    }\n",
       "\n",
       "    .dataframe tbody tr th {\n",
       "        vertical-align: top;\n",
       "    }\n",
       "\n",
       "    .dataframe thead th {\n",
       "        text-align: right;\n",
       "    }\n",
       "</style>\n",
       "<table border=\"1\" class=\"dataframe\">\n",
       "  <thead>\n",
       "    <tr style=\"text-align: right;\">\n",
       "      <th></th>\n",
       "      <th>user_id</th>\n",
       "      <th>click_article_id</th>\n",
       "      <th>rating</th>\n",
       "    </tr>\n",
       "  </thead>\n",
       "  <tbody>\n",
       "    <tr>\n",
       "      <th>0</th>\n",
       "      <td>0</td>\n",
       "      <td>68866</td>\n",
       "      <td>1</td>\n",
       "    </tr>\n",
       "    <tr>\n",
       "      <th>1</th>\n",
       "      <td>0</td>\n",
       "      <td>87205</td>\n",
       "      <td>1</td>\n",
       "    </tr>\n",
       "    <tr>\n",
       "      <th>2</th>\n",
       "      <td>0</td>\n",
       "      <td>87224</td>\n",
       "      <td>1</td>\n",
       "    </tr>\n",
       "    <tr>\n",
       "      <th>3</th>\n",
       "      <td>0</td>\n",
       "      <td>96755</td>\n",
       "      <td>1</td>\n",
       "    </tr>\n",
       "    <tr>\n",
       "      <th>4</th>\n",
       "      <td>0</td>\n",
       "      <td>157541</td>\n",
       "      <td>1</td>\n",
       "    </tr>\n",
       "  </tbody>\n",
       "</table>\n",
       "</div>"
      ],
      "text/plain": [
       "   user_id  click_article_id  rating\n",
       "0        0             68866       1\n",
       "1        0             87205       1\n",
       "2        0             87224       1\n",
       "3        0             96755       1\n",
       "4        0            157541       1"
      ]
     },
     "metadata": {},
     "output_type": "display_data"
    },
    {
     "name": "stdout",
     "output_type": "stream",
     "text": [
      "count    2.950710e+06\n",
      "mean     1.012699e+00\n",
      "std      1.344699e-01\n",
      "min      1.000000e+00\n",
      "25%      1.000000e+00\n",
      "50%      1.000000e+00\n",
      "75%      1.000000e+00\n",
      "max      3.300000e+01\n",
      "Name: rating, dtype: float64\n"
     ]
    }
   ],
   "source": [
    "# 3.2 Agréger en comptant les clics par (user, article)\n",
    "ratings = (\n",
    "    clicks_full\n",
    "    .groupby([\"user_id\",\"click_article_id\"])\n",
    "    .size()\n",
    "    .reset_index(name=\"rating\")\n",
    ")\n",
    "\n",
    "print(ratings.shape)\n",
    "display(ratings.head())\n",
    "print(ratings[\"rating\"].describe())\n"
   ]
  },
  {
   "cell_type": "code",
   "execution_count": 162,
   "id": "e37d544f-1e61-4257-979c-07856feda446",
   "metadata": {},
   "outputs": [
    {
     "data": {
      "text/plain": [
       "array([ 1,  2,  5,  4,  3,  6,  7,  8, 10, 13,  9, 17, 12, 30, 31, 33, 16],\n",
       "      dtype=int64)"
      ]
     },
     "execution_count": 162,
     "metadata": {},
     "output_type": "execute_result"
    }
   ],
   "source": [
    "ratings[\"rating\"].unique()"
   ]
  },
  {
   "cell_type": "code",
   "execution_count": 163,
   "id": "77c1b65f-4311-44e2-8aa4-ffad6c0554a3",
   "metadata": {},
   "outputs": [
    {
     "name": "stderr",
     "output_type": "stream",
     "text": [
      "C:\\Users\\kanam\\AppData\\Local\\Temp\\ipykernel_24900\\1109433486.py:12: FutureWarning: Downcasting object dtype arrays on .fillna, .ffill, .bfill is deprecated and will change in a future version. Call result.infer_objects(copy=False) instead. To opt-in to the future behavior, set `pd.set_option('future.no_silent_downcasting', True)`\n",
      "  ).fillna(0)\n"
     ]
    },
    {
     "name": "stdout",
     "output_type": "stream",
     "text": [
      "count    2.950710e+06\n",
      "mean     1.012699e+00\n",
      "std      1.344699e-01\n",
      "min      1.000000e+00\n",
      "25%      1.000000e+00\n",
      "50%      1.000000e+00\n",
      "75%      1.000000e+00\n",
      "max      3.300000e+01\n",
      "Name: rating, dtype: float64\n",
      "count    2.950710e+06\n",
      "mean     2.974197e+05\n",
      "std      4.313964e+06\n",
      "min      0.000000e+00\n",
      "25%      0.000000e+00\n",
      "50%      3.000000e+04\n",
      "75%      4.452700e+04\n",
      "max      1.212149e+09\n",
      "Name: rating, dtype: float64\n"
     ]
    }
   ],
   "source": [
    "#4(Optionnel) Calculer un dwell_time pour un rating pondéré\n",
    "clicks_full = clicks_full.sort_values(\n",
    "    [\"user_id\",\"session_id\",\"click_timestamp\"]\n",
    ")\n",
    "clicks_full[\"next_ts\"] = (\n",
    "    clicks_full\n",
    "    .groupby([\"user_id\",\"session_id\"])[\"click_timestamp\"]\n",
    "    .shift(-1)\n",
    ")\n",
    "clicks_full[\"dwell_time\"] = (\n",
    "    clicks_full[\"next_ts\"] - clicks_full[\"click_timestamp\"]\n",
    ").fillna(0)\n",
    "\n",
    "# 5. Construire le DataFrame de ratings sur counts\n",
    "ratings_count = (\n",
    "    clicks_full\n",
    "    .groupby([\"user_id\",\"click_article_id\"])\n",
    "    .size()\n",
    "    .reset_index(name=\"rating\")\n",
    ")\n",
    "print(ratings_count[\"rating\"].describe())\n",
    "\n",
    "# 6. Ou bien sur dwell_time\n",
    "ratings_time = (\n",
    "    clicks_full\n",
    "    .groupby([\"user_id\",\"click_article_id\"])[\"dwell_time\"]\n",
    "    .sum()\n",
    "    .reset_index(name=\"rating\")\n",
    ")\n",
    "print(ratings_time[\"rating\"].describe())"
   ]
  },
  {
   "cell_type": "code",
   "execution_count": 164,
   "id": "520f10ab-c376-48ac-8869-68bb8017f559",
   "metadata": {},
   "outputs": [
    {
     "name": "stdout",
     "output_type": "stream",
     "text": [
      "RMSE: 0.1342\n",
      "RMSE: 0.13417800012623615\n",
      "MAE:  0.0260\n",
      "MAE:  0.025957099979260493\n"
     ]
    }
   ],
   "source": [
    "from surprise import Dataset, Reader, SVD\n",
    "from surprise.model_selection import train_test_split\n",
    "from surprise import accuracy\n",
    "\n",
    "# Choix du rating\n",
    "ratings = ratings_count  # ou ratings_time\n",
    "\n",
    "reader = Reader(rating_scale=(ratings.rating.min(), ratings.rating.max()))\n",
    "data   = Dataset.load_from_df(\n",
    "    ratings[[\"user_id\",\"click_article_id\",\"rating\"]],\n",
    "    reader\n",
    ")\n",
    "trainset, testset = train_test_split(data, test_size=0.2, random_state=42)\n",
    "\n",
    "algo = SVD(n_factors=50, random_state=42)\n",
    "algo.fit(trainset)\n",
    "\n",
    "preds = algo.test(testset)\n",
    "print(\"RMSE:\", accuracy.rmse(preds))\n",
    "print(\"MAE: \", accuracy.mae(preds))\n"
   ]
  },
  {
   "cell_type": "code",
   "execution_count": 172,
   "id": "bb224381-eb47-4350-9df7-2588c7a940b5",
   "metadata": {},
   "outputs": [
    {
     "name": "stderr",
     "output_type": "stream",
     "text": [
      "C:\\Users\\kanam\\AppData\\Local\\Temp\\ipykernel_24900\\3843021599.py:18: FutureWarning: Downcasting object dtype arrays on .fillna, .ffill, .bfill is deprecated and will change in a future version. Call result.infer_objects(copy=False) instead. To opt-in to the future behavior, set `pd.set_option('future.no_silent_downcasting', True)`\n",
      "  ).fillna(0)\n"
     ]
    },
    {
     "name": "stdout",
     "output_type": "stream",
     "text": [
      "RMSE: 6.0066\n",
      "RMSE: 6.006615024680338\n",
      "MAE:  5.1406\n",
      "MAE:  5.140568493369283\n",
      "user: 1234       item: 157541     r_ui = None   est = 7.13   {'was_impossible': False}\n",
      "Estimation de dwell_time pour user 1234, article 157541: 1246.00 ms\n"
     ]
    }
   ],
   "source": [
    "#dwell time\n",
    "\n",
    "# 2. Calculer le dwell_time (temps passé sur chaque article au sein de chaque session)\n",
    "clicks_full = clicks_full.sort_values(\n",
    "    [\"user_id\", \"session_id\", \"click_timestamp\"]\n",
    ")\n",
    "\n",
    "# Pour chaque clic, on prend le timestamp du clic suivant dans la même session\n",
    "clicks_full[\"next_ts\"] = (\n",
    "    clicks_full\n",
    "    .groupby([\"user_id\", \"session_id\"])[\"click_timestamp\"]\n",
    "    .shift(-1)\n",
    ")\n",
    "\n",
    "# dwell_time = différence au clic suivant, ou 0 si c'est le dernier clic de la session\n",
    "clicks_full[\"dwell_time\"] = (\n",
    "    clicks_full[\"next_ts\"] - clicks_full[\"click_timestamp\"]\n",
    ").fillna(0)\n",
    "\n",
    "# 3. Construire le DataFrame de ratings sur la somme des dwell_time par (user, article)\n",
    "ratings_time = (\n",
    "    clicks_full\n",
    "    .groupby([\"user_id\", \"click_article_id\"])[\"dwell_time\"]\n",
    "    .sum()\n",
    "    .reset_index(name=\"rating\")\n",
    ")\n",
    "\n",
    "# (Optionnel) Appliquer une transformation log+1 pour atténuer les valeurs extrêmes\n",
    "ratings_time[\"rating\"] = np.log1p(ratings_time[\"rating\"])\n",
    "\n",
    "# 4. Charger ces ratings dans Surprise et entraîner un modèle SVD\n",
    "reader = Reader(rating_scale=(ratings_time[\"rating\"].min(), ratings_time[\"rating\"].max()))\n",
    "data   = Dataset.load_from_df(\n",
    "    ratings_time[[\"user_id\", \"click_article_id\", \"rating\"]],\n",
    "    reader\n",
    ")\n",
    "\n",
    "trainset, testset = train_test_split(data, test_size=0.2, random_state=42)\n",
    "\n",
    "algo = SVD(n_factors=50, random_state=42)\n",
    "algo.fit(trainset)\n",
    "\n",
    "# 5. Évaluer sur le testset (RMSE / MAE)\n",
    "preds = algo.test(testset)\n",
    "print(\"RMSE:\", accuracy.rmse(preds))\n",
    "print(\"MAE: \", accuracy.mae(preds))\n",
    "\n",
    "# 6. Exemple de prédiction pour un utilisateur & un article donné\n",
    "#    Format : algo.predict(uid, iid, r_ui=None, verbose=True)\n",
    "#    - uid = ID utilisateur (doit exister dans trainset ou non ; Surprise peut faire du cold-start)\n",
    "#    - iid = ID article (doit exister dans trainset ou non)\n",
    "#    - r_ui = rating réel si connu, sinon None\n",
    "#    - verbose = True pour afficher la prédiction détaillée\n",
    "\n",
    "user_id    = 1234    # remplacer par un user_id de ton choix\n",
    "article_id = 157541  # remplacer par un click_article_id de ton choix\n",
    "\n",
    "prediction = algo.predict(uid=user_id, iid=article_id, r_ui=None, verbose=True)\n",
    "# prediction.est est la valeur prédite (log(dwell_time+1)) pour ce couple (user_id, article_id)\n",
    "\n",
    "# Si tu veux récupérer la valeur sous forme de dwell_time estimé, fais :\n",
    "log_est = prediction.est\n",
    "dwell_time_est = np.expm1(log_est)  # inverse de np.log1p\n",
    "print(f\"Estimation de dwell_time pour user {user_id}, article {article_id}: {dwell_time_est:.2f} ms\")\n",
    "\n"
   ]
  }
 ],
 "metadata": {
  "kernelspec": {
   "display_name": "Python 3 (ipykernel)",
   "language": "python",
   "name": "python3"
  },
  "language_info": {
   "codemirror_mode": {
    "name": "ipython",
    "version": 3
   },
   "file_extension": ".py",
   "mimetype": "text/x-python",
   "name": "python",
   "nbconvert_exporter": "python",
   "pygments_lexer": "ipython3",
   "version": "3.11.11"
  }
 },
 "nbformat": 4,
 "nbformat_minor": 5
}
